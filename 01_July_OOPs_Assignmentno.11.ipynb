{
 "cells": [
  {
   "cell_type": "markdown",
   "id": "a2b4816a",
   "metadata": {},
   "source": [
    "## 1. What is the primary goal of Object-Oriented Programming (OOP)?"
   ]
  },
  {
   "cell_type": "markdown",
   "id": "e1ff1646",
   "metadata": {},
   "source": [
    "Ans:-\n",
    "    The primary goal of Object-Oriented Programming (OOP) is to organize and structure code in a way that reflects the real-world entities and their interactions. In Python and other programming languages that support OOP, the central concept is the \"object.\" An object is an instance of a class, and a class defines a blueprint for creating objects with shared properties (attributes) and behaviors (methods).\n",
    "    The main goals of OOP in Python (and in general) include:\n",
    "    \n",
    "  (1) Modularity: OOP promotes the division of complex software systems into smaller, self-contained modules (classes). This enhances code reusability and maintainability by allowing changes to be made in one part of the code without affecting other parts.\n",
    "\n",
    "  (2) Encapsulation: Encapsulation refers to the bundling of data (attributes) and the methods (functions) that operate on that data into a single unit (object). It helps to hide the internal implementation details of an object, allowing changes to be made to the internal structure without affecting the overall functionality.\n",
    "\n",
    "  (3) Abstraction: Abstraction involves simplifying complex reality by modeling classes based on the essential properties and behaviors of real-world entities. This allows programmers to focus on the relevant aspects of an object while ignoring unnecessary details.\n",
    "\n",
    "  (4) Inheritance: Inheritance is the process by which a new class (subclass or derived class) can inherit properties and behaviors from an existing class (superclass or base class). This promotes code reuse and allows for the creation of more specialized classes that build upon the features of a more general class.\n",
    "\n",
    "  (5) Polymorphism: Polymorphism allows objects of different classes to be treated as instances of a common base class through a unified interface. This enables more flexible and generic coding since different classes can implement their own versions of methods, which are calle\n",
    "  d based on the specific object's class."
   ]
  },
  {
   "cell_type": "markdown",
   "id": "e69dce1f",
   "metadata": {},
   "source": [
    "## 2. What is an object in Python?"
   ]
  },
  {
   "cell_type": "markdown",
   "id": "cc59b6ea",
   "metadata": {},
   "source": [
    "Ans:-\n",
    "    In Python, an object is a fundamental concept that represents a real-world entity, data structure, or value. Everything in Python is an object, and objects are instances of classes, which are the blueprints or templates for creating objects. Objects have attributes (data) and methods (functions) associated with them.\n",
    "    Here are some key points to understand about objects in Python:\n",
    "    \n",
    "   (1) Instances of Classes: Objects are instances of classes. A class defines the structure and behavior of objects, including their attributes (variables) and methods (functions).\n",
    "\n",
    "  (2) Attributes: Attributes are variables that hold data associated with an object. They can store various types of information, such as numbers, strings, lists, or other objects.\n",
    "\n",
    "  (3) Methods: Methods are functions defined within a class that operate on the attributes of an object. They allow you to perform actions or computations related to the object.\n",
    "\n",
    "  (4) Object Identity: Each object in Python has a unique identity, which can be obtained using the id() function. This identity is guaranteed to be unique during the lifetime of the object.\n",
    "\n",
    "  (5) Object Type: Objects have a type that determines the class from which they were created. You can check an object's type using the type() function.\n",
    "\n",
    "  (6) Object Creation: Objects are created by calling the constructor of a class. The constructor is a special method named __init__() that initializes the object's attributes when it's created.\n",
    "  For Example:-"
   ]
  },
  {
   "cell_type": "code",
   "execution_count": 1,
   "id": "7b444a41",
   "metadata": {},
   "outputs": [
    {
     "name": "stdout",
     "output_type": "stream",
     "text": [
      "Alice\n",
      "30\n",
      "Hello, my name is Alice and I'm 25 years old.\n",
      "Hello, my name is Bob and I'm 30 years old.\n"
     ]
    }
   ],
   "source": [
    "class Person:\n",
    "    def __init__(self, name, age):\n",
    "        self.name = name\n",
    "        self.age = age\n",
    "\n",
    "    def greet(self):\n",
    "        print(f\"Hello, my name is {self.name} and I'm {self.age} years old.\")\n",
    "\n",
    "# Creating objects (instances) of the Person class\n",
    "person1 = Person(\"Alice\", 25)\n",
    "person2 = Person(\"Bob\", 30)\n",
    "\n",
    "# Accessing object attributes and calling methods\n",
    "print(person1.name)\n",
    "print(person2.age)  \n",
    "\n",
    "person1.greet()     \n",
    "person2.greet()    "
   ]
  },
  {
   "cell_type": "markdown",
   "id": "ec5cf32b",
   "metadata": {},
   "source": [
    "## 3. What is a class in Python?"
   ]
  },
  {
   "cell_type": "markdown",
   "id": "3924d892",
   "metadata": {},
   "source": [
    "Ans:-\n",
    "    In Python, a class is a blueprint for creating objects (instances). It defines a set of attributes and methods that the objects of the class will have. Essentially, a class provides a way to define a custom data type with its own properties and behaviors.\n",
    "    \n",
    "   (1) Attributes: These are variables that hold data associated with the class. They define the characteristics or properties of the objects created from the class.\n",
    "\n",
    "  (2) Methods: These are functions defined within the class that can perform actions or operations on the attributes of the class or on the instance itself.\n",
    "\n",
    "  (3) Constructor: A special method called __init__() that initializes the attributes of an object when it is created. It allows you to set initial values for the object's attributes.\n",
    "\n",
    "  (4) Instance: An object that is created based on a class. It has access to the attributes and methods defined in the class.\n",
    "      For Example:-"
   ]
  },
  {
   "cell_type": "code",
   "execution_count": 2,
   "id": "5e062b2b",
   "metadata": {},
   "outputs": [
    {
     "name": "stdout",
     "output_type": "stream",
     "text": [
      "Deposited 1000 units. New balance: 1000\n",
      "Withdrew 500 units. New balance: 500\n",
      "Insufficient funds or invalid withdrawal amount.\n",
      "Current balance: 500\n"
     ]
    }
   ],
   "source": [
    "class BankAccount:\n",
    "    def __init__(self, account_number, balance=0):\n",
    "        self.account_number = account_number\n",
    "        self.balance = balance\n",
    "    \n",
    "    def deposit(self, amount):\n",
    "        if amount > 0:\n",
    "            self.balance += amount\n",
    "            print(f\"Deposited {amount} units. New balance: {self.balance}\")\n",
    "        else:\n",
    "            print(\"Invalid deposit amount.\")\n",
    "    \n",
    "    def withdraw(self, amount):\n",
    "        if 0 < amount <= self.balance:\n",
    "            self.balance -= amount\n",
    "            print(f\"Withdrew {amount} units. New balance: {self.balance}\")\n",
    "        else:\n",
    "            print(\"Insufficient funds or invalid withdrawal amount.\")\n",
    "\n",
    "    def get_balance(self):\n",
    "        return self.balance\n",
    "\n",
    "# Creating a BankAccount instance\n",
    "account1 = BankAccount(\"12345\")\n",
    "\n",
    "# Depositing and withdrawing funds\n",
    "account1.deposit(1000)\n",
    "account1.withdraw(500)  \n",
    "account1.withdraw(700)  \n",
    "\n",
    "# Getting the account balance\n",
    "print(\"Current balance:\", account1.get_balance())  "
   ]
  },
  {
   "cell_type": "markdown",
   "id": "e80a1bde",
   "metadata": {},
   "source": [
    "## 4. What are attributes and methods in a class?"
   ]
  },
  {
   "cell_type": "markdown",
   "id": "7976d496",
   "metadata": {},
   "source": [
    "Ans:-\n",
    "    In object-oriented programming (OOP), a class is a blueprint for creating objects, which are instances of that class. Classes define the structure and behavior of objects by incorporating two main components: attributes and methods.\n",
    "    \n",
    "  (1) Attributes:\n",
    "Attributes, also known as properties or fields, are the data members of a class. They represent the characteristics or state of an object. Attributes store information that can vary from one object to another. For example, if you're creating a class to model a \"Car,\" attributes might include things like \"color,\" \"make,\" \"model,\" \"year,\" and so on. Attributes define the properties that describe the object's identity.\n",
    "For Example:-"
   ]
  },
  {
   "cell_type": "code",
   "execution_count": 12,
   "id": "13515248",
   "metadata": {},
   "outputs": [
    {
     "name": "stdout",
     "output_type": "stream",
     "text": [
      "Car 1:\n",
      "Color: Red\n",
      "Make: Toyota\n",
      "Model: Camry\n",
      "Year: 2023\n",
      "Car 2:\n",
      "Color: Blue\n",
      "Make: Honda\n",
      "Model: Civic\n",
      "Year: 2022\n"
     ]
    }
   ],
   "source": [
    "class Car:\n",
    "    def __init__(self, color, make, model, year):\n",
    "        self.color = color\n",
    "        self.make = make\n",
    "        self.model = model\n",
    "        self.year = year\n",
    "\n",
    "car1 = Car(\"Red\", \"Toyota\", \"Camry\", 2023)\n",
    "car2 = Car(\"Blue\", \"Honda\", \"Civic\", 2022)\n",
    "\n",
    "# Print the attributes of car1\n",
    "print(\"Car 1:\")\n",
    "print(\"Color:\", car1.color)\n",
    "print(\"Make:\", car1.make)\n",
    "print(\"Model:\", car1.model)\n",
    "print(\"Year:\", car1.year)\n",
    "\n",
    "# Print the attributes of car2\n",
    "print(\"Car 2:\")\n",
    "print(\"Color:\", car2.color)\n",
    "print(\"Make:\", car2.make)\n",
    "print(\"Model:\", car2.model)\n",
    "print(\"Year:\", car2.year)\n"
   ]
  },
  {
   "cell_type": "markdown",
   "id": "dc912bad",
   "metadata": {},
   "source": [
    "  (2) Methods:\n",
    "Methods are functions defined within a class that determine the behavior or actions that objects of the class can perform. Methods operate on the attributes of an object and can be used to manipulate the object's state or interact with other objects. They encapsulate the functionality associated with the class and enable you to define reusable code for various operations.\n",
    "For Example:-"
   ]
  },
  {
   "cell_type": "code",
   "execution_count": 4,
   "id": "4fb4c6ed",
   "metadata": {},
   "outputs": [
    {
     "name": "stdout",
     "output_type": "stream",
     "text": [
      "The Red Toyota Camry's engine is running.\n",
      "The car is accelerating.\n"
     ]
    }
   ],
   "source": [
    "class Car:\n",
    "    def __init__(self, color, make, model, year):\n",
    "        self.color = color\n",
    "        self.make = make\n",
    "        self.model = model\n",
    "        self.year = year\n",
    "\n",
    "    def start_engine(self):\n",
    "        print(f\"The {self.color} {self.make} {self.model}'s engine is running.\")\n",
    "\n",
    "    def accelerate(self):\n",
    "        print(\"The car is accelerating.\")\n",
    "\n",
    "    def brake(self):\n",
    "        print(\"The car is braking.\")\n",
    "\n",
    "car1 = Car(\"Red\", \"Toyota\", \"Camry\", 2023)\n",
    "car1.start_engine()\n",
    "car1.accelerate()"
   ]
  },
  {
   "cell_type": "markdown",
   "id": "895ba57d",
   "metadata": {},
   "source": [
    "## 5. What is the difference between class variables and instance variables in Python?"
   ]
  },
  {
   "cell_type": "markdown",
   "id": "9cf6057e",
   "metadata": {},
   "source": [
    "Ans:-\n",
    "    In Python, both class variables and instance variables are used to store data within classes, but they have different scopes and purposes.\n",
    "    (1) Class Variables:\n",
    "Class variables are shared among all instances of a class. They are defined within the class but outside of any instance methods.\n",
    "They are declared using the class name and are usually placed at the top of the class definition.\n",
    "Class variables are often used to store attributes or values that are common to all instances of the class.\n",
    "Changes to a class variable will affect all instances of the class.\n",
    "They are accessed using the class name itself or through instances of the class.\n",
    "For Example:-"
   ]
  },
  {
   "cell_type": "code",
   "execution_count": 5,
   "id": "b10019d3",
   "metadata": {},
   "outputs": [
    {
     "name": "stdout",
     "output_type": "stream",
     "text": [
      "0\n",
      "0\n",
      "0\n",
      "42\n",
      "42\n"
     ]
    }
   ],
   "source": [
    "class MyClass:\n",
    "    class_variable = 0\n",
    "    \n",
    "    def __init__(self, instance_variable):\n",
    "        self.instance_variable = instance_variable\n",
    "\n",
    "# Accessing class variable\n",
    "print(MyClass.class_variable)  \n",
    "\n",
    "# Creating instances\n",
    "obj1 = MyClass(1)\n",
    "obj2 = MyClass(2)\n",
    "\n",
    "# Accessing class variable through instances\n",
    "print(obj1.class_variable)     \n",
    "print(obj2.class_variable)    \n",
    "\n",
    "# Modifying class variable\n",
    "MyClass.class_variable = 42\n",
    "print(obj1.class_variable)    \n",
    "print(obj2.class_variable)     "
   ]
  },
  {
   "cell_type": "markdown",
   "id": "68c8ea45",
   "metadata": {},
   "source": [
    "  (2) Instance Variables:\n",
    "Instance variables are unique to each instance of a class. They are defined within the class's methods, typically within the __init__ constructor method.\n",
    "They store data that varies from instance to instance, making each instance capable of holding different values.\n",
    "Instance variables are accessed using the self keyword within instance methods.\n",
    "Changes to instance variables only affect the specific instance they belong to."
   ]
  },
  {
   "cell_type": "code",
   "execution_count": 6,
   "id": "2809c692",
   "metadata": {},
   "outputs": [
    {
     "name": "stdout",
     "output_type": "stream",
     "text": [
      "1\n",
      "2\n",
      "10\n",
      "20\n"
     ]
    }
   ],
   "source": [
    "class MyClass:\n",
    "    def __init__(self, instance_variable):\n",
    "        self.instance_variable = instance_variable\n",
    "\n",
    "# Creating instances\n",
    "obj1 = MyClass(1)\n",
    "obj2 = MyClass(2)\n",
    "\n",
    "# Accessing instance variables\n",
    "print(obj1.instance_variable)\n",
    "print(obj2.instance_variable)  \n",
    "\n",
    "# Modifying instance variables\n",
    "obj1.instance_variable = 10\n",
    "obj2.instance_variable = 20\n",
    "print(obj1.instance_variable) \n",
    "print(obj2.instance_variable) "
   ]
  },
  {
   "cell_type": "markdown",
   "id": "e9c64137",
   "metadata": {},
   "source": [
    "## 6. What is the purpose of the self parameter in Python class methods?"
   ]
  },
  {
   "cell_type": "markdown",
   "id": "69ed1dc6",
   "metadata": {},
   "source": [
    "Ans:-\n",
    "    In Python, the self parameter in class methods refers to the instance of the class that the method is being called on. It is a convention used in object-oriented programming to represent the instance itself within its methods. The self parameter allows you to access and manipulate the instance's attributes and methods.\n",
    "   (1) Accessing Instance Attributes: By using the self parameter, you can access the attributes (variables) that belong to the instance. This allows you to retrieve and modify the state of the instance.\n",
    "\n",
    "  (2) Calling Instance Methods: Inside a class method, you can call other methods of the same instance using the self parameter. This enables you to execute actions and behaviors associated with the instance.\n",
    "\n",
    "  (3) Creating and Managing State: The self parameter is crucial for maintaining and managing the state of individual instances. Each instance of a class can have different attribute values, and the self parameter ensures that the correct instance's attributes are manipulated within the methods.\n",
    "  For Example:-"
   ]
  },
  {
   "cell_type": "code",
   "execution_count": 7,
   "id": "7f09a9de",
   "metadata": {},
   "outputs": [
    {
     "name": "stdout",
     "output_type": "stream",
     "text": [
      "Hi, I'm Aditya and I am 25 years old.\n",
      "Hi, I'm Raj and I am 30 years old.\n"
     ]
    }
   ],
   "source": [
    "class Person:\n",
    "    def __init__(self, name, age):\n",
    "        self.name = name\n",
    "        self.age = age\n",
    "    \n",
    "    def introduce(self):\n",
    "        return f\"Hi, I'm {self.name} and I am {self.age} years old.\"\n",
    "\n",
    "# Creating instances of the Person class\n",
    "person1 = Person(\"Aditya\", 25)\n",
    "person2 = Person(\"Raj\", 30)\n",
    "\n",
    "# Calling the instance method using the self parameter\n",
    "print(person1.introduce())\n",
    "print(person2.introduce())"
   ]
  },
  {
   "cell_type": "markdown",
   "id": "36a337f9",
   "metadata": {},
   "source": [
    "## 7. For a library management system, you have to design the \"Book\" class with OOP principles in mind. The “Book” class will have following attributes:\n",
    "## a. title: Represents the title of the book.\n",
    "## b. author: Represents the author(s) of the book.\n",
    "## c. isbn: Represents the ISBN (International Standard Book Number) of the book.\n",
    "## d. publication_year: Represents the year of publication of the book.\n",
    "## e. available_copies: Represents the number of copies available for checkout.\n",
    "## The class will also include the following methods:\n",
    "## a. check_out(self): Decrements the available copies by one if there are copies available for checkout.\n",
    "## b. return_book(self): Increments the available copies by one when a book is returned.\n",
    "## c. display_book_info(self): Displays the information about the book, including its attributes and the number of available copies."
   ]
  },
  {
   "cell_type": "code",
   "execution_count": 8,
   "id": "fe253cca",
   "metadata": {},
   "outputs": [
    {
     "name": "stdout",
     "output_type": "stream",
     "text": [
      "A copy of 'Sample Book' has been checked out.\n",
      "A copy of 'Sample Book' has been returned.\n",
      "Title: Sample Book\n",
      "Author(s): John Doe\n",
      "ISBN: 1234567890\n",
      "Publication Year: 2023\n",
      "Available Copies: 5\n"
     ]
    }
   ],
   "source": [
    "class Book:\n",
    "    def __init__(self, title, author, isbn, publication_year, available_copies):\n",
    "        self.title = title\n",
    "        self.author = author\n",
    "        self.isbn = isbn\n",
    "        self.publication_year = publication_year\n",
    "        self.available_copies = available_copies\n",
    "\n",
    "    def check_out(self):\n",
    "        if self.available_copies > 0:\n",
    "            self.available_copies -= 1\n",
    "            print(f\"A copy of '{self.title}' has been checked out.\")\n",
    "        else:\n",
    "            print(f\"Sorry, no copies of '{self.title}' are available for checkout.\")\n",
    "\n",
    "    def return_book(self):\n",
    "        self.available_copies += 1\n",
    "        print(f\"A copy of '{self.title}' has been returned.\")\n",
    "\n",
    "    def display_book_info(self):\n",
    "        print(f\"Title: {self.title}\")\n",
    "        print(f\"Author(s): {self.author}\")\n",
    "        print(f\"ISBN: {self.isbn}\")\n",
    "        print(f\"Publication Year: {self.publication_year}\")\n",
    "        print(f\"Available Copies: {self.available_copies}\")\n",
    "\n",
    "\n",
    "# Example usage\n",
    "book1 = Book(\"Sample Book\", \"John Doe\", \"1234567890\", 2023, 5)\n",
    "book1.check_out()\n",
    "book1.return_book()\n",
    "book1.display_book_info()"
   ]
  },
  {
   "cell_type": "markdown",
   "id": "f23c46dd",
   "metadata": {},
   "source": [
    "## 8. For a ticket booking system, you have to design the \"Ticket\" class with OOP principles in mind. The “Ticket” class should have the following attributes:\n",
    "## a. ticket_id: Represents the unique identifier for the ticket.\n",
    "## b. event_name: Represents the name of the event.\n",
    "## c. event_date: Represents the date of the event.\n",
    "## d. venue: Represents the venue of the event.\n",
    "## e. seat_number: Represents the seat number associated with the ticket.\n",
    "## f. price: Represents the price of the ticket.\n",
    "## g. is_reserved: Represents the reservation status of the ticket.\n",
    "## The class also includes the following methods:\n",
    "## a. reserve_ticket(self): Marks the ticket as reserved if it is not already reserved.\n",
    "## b. cancel_reservation(self): Cancels the reservation of the ticket if it is already reserved.\n",
    "## c. display_ticket_info(self): Displays the information about the ticket, including its attributes and reservation status."
   ]
  },
  {
   "cell_type": "code",
   "execution_count": 9,
   "id": "497f278f",
   "metadata": {},
   "outputs": [
    {
     "name": "stdout",
     "output_type": "stream",
     "text": [
      "Ticket ID: T123\n",
      "Event Name: Concert\n",
      "Event Date: 2023-08-25\n",
      "Venue: Music Hall\n",
      "Seat Number: A1\n",
      "Price: 50\n",
      "Reservation Status: Not Reserved\n",
      "\n",
      "Reserving the ticket...\n",
      "Ticket T123 has been reserved.\n",
      "\n",
      "Cancelling the reservation...\n",
      "Reservation for Ticket T123 has been cancelled.\n",
      "\n",
      "Displaying ticket info after changes...\n",
      "Ticket ID: T123\n",
      "Event Name: Concert\n",
      "Event Date: 2023-08-25\n",
      "Venue: Music Hall\n",
      "Seat Number: A1\n",
      "Price: 50\n",
      "Reservation Status: Not Reserved\n"
     ]
    }
   ],
   "source": [
    "class Ticket:\n",
    "    def __init__(self, ticket_id, event_name, event_date, venue, seat_number, price):\n",
    "        self.ticket_id = ticket_id\n",
    "        self.event_name = event_name\n",
    "        self.event_date = event_date\n",
    "        self.venue = venue\n",
    "        self.seat_number = seat_number\n",
    "        self.price = price\n",
    "        self.is_reserved = False\n",
    "    \n",
    "    def reserve_ticket(self):\n",
    "        if not self.is_reserved:\n",
    "            self.is_reserved = True\n",
    "            print(f\"Ticket {self.ticket_id} has been reserved.\")\n",
    "        else:\n",
    "            print(f\"Ticket {self.ticket_id} is already reserved.\")\n",
    "    \n",
    "    def cancel_reservation(self):\n",
    "        if self.is_reserved:\n",
    "            self.is_reserved = False\n",
    "            print(f\"Reservation for Ticket {self.ticket_id} has been cancelled.\")\n",
    "        else:\n",
    "            print(f\"Ticket {self.ticket_id} was not reserved.\")\n",
    "    \n",
    "    def display_ticket_info(self):\n",
    "        reservation_status = \"Reserved\" if self.is_reserved else \"Not Reserved\"\n",
    "        print(f\"Ticket ID: {self.ticket_id}\")\n",
    "        print(f\"Event Name: {self.event_name}\")\n",
    "        print(f\"Event Date: {self.event_date}\")\n",
    "        print(f\"Venue: {self.venue}\")\n",
    "        print(f\"Seat Number: {self.seat_number}\")\n",
    "        print(f\"Price: {self.price}\")\n",
    "        print(f\"Reservation Status: {reservation_status}\")\n",
    "\n",
    "# Example usage\n",
    "ticket1 = Ticket(\"T123\", \"Concert\", \"2023-08-25\", \"Music Hall\", \"A1\", 50)\n",
    "ticket1.display_ticket_info()\n",
    "\n",
    "print(\"\\nReserving the ticket...\")\n",
    "ticket1.reserve_ticket()\n",
    "\n",
    "print(\"\\nCancelling the reservation...\")\n",
    "ticket1.cancel_reservation()\n",
    "\n",
    "print(\"\\nDisplaying ticket info after changes...\")\n",
    "ticket1.display_ticket_info()"
   ]
  },
  {
   "cell_type": "markdown",
   "id": "95471253",
   "metadata": {},
   "source": [
    "## 9. You are creating a shopping cart for an e-commerce website. Using OOP to model the \"ShoppingCart\" functionality the class should contain following attributes and methods:\n",
    "## a. items: Represents the list of items in the shopping cart.\n",
    "## The class also includes the following methods:\n",
    "## b. add_item(self, item): Adds an item to the shopping cart by appending it to the list of items.\n",
    "## c. remove_item(self, item): Removes an item from the shopping cart if it exists in the list.\n",
    "## d. view_cart(self): Displays the items currently present in the shopping cart.\n",
    "## e. clear_cart(self): Clears all items from the shopping cart by reassigning an empty list to the items attribute."
   ]
  },
  {
   "cell_type": "code",
   "execution_count": 10,
   "id": "123e6d17",
   "metadata": {},
   "outputs": [
    {
     "name": "stdout",
     "output_type": "stream",
     "text": [
      "Added Item 1 to the cart.\n",
      "Added Item 2 to the cart.\n",
      "Items in the cart:\n",
      "Item 1\n",
      "Item 2\n",
      "Removed Item 1 from the cart.\n",
      "Items in the cart:\n",
      "Item 2\n",
      "Cart has been cleared.\n",
      "The cart is empty.\n"
     ]
    }
   ],
   "source": [
    "class ShoppingCart:\n",
    "    def __init__(self):\n",
    "        self.items = []\n",
    "\n",
    "    def add_item(self, item):\n",
    "        self.items.append(item)\n",
    "        print(f\"Added {item} to the cart.\")\n",
    "\n",
    "    def remove_item(self, item):\n",
    "        if item in self.items:\n",
    "            self.items.remove(item)\n",
    "            print(f\"Removed {item} from the cart.\")\n",
    "        else:\n",
    "            print(f\"{item} is not in the cart.\")\n",
    "\n",
    "    def view_cart(self):\n",
    "        if self.items:\n",
    "            print(\"Items in the cart:\")\n",
    "            for item in self.items:\n",
    "                print(item)\n",
    "        else:\n",
    "            print(\"The cart is empty.\")\n",
    "\n",
    "    def clear_cart(self):\n",
    "        self.items = []\n",
    "        print(\"Cart has been cleared.\")\n",
    "\n",
    "# Testing the ShoppingCart class\n",
    "cart = ShoppingCart()\n",
    "\n",
    "cart.add_item(\"Item 1\")\n",
    "cart.add_item(\"Item 2\")\n",
    "cart.view_cart()\n",
    "\n",
    "cart.remove_item(\"Item 1\")\n",
    "cart.view_cart()\n",
    "\n",
    "cart.clear_cart()\n",
    "cart.view_cart()\n"
   ]
  },
  {
   "cell_type": "markdown",
   "id": "d379d6a2",
   "metadata": {},
   "source": [
    "## 10. Imagine a school management system. You have to design the \"Student\" class using OOP concepts.The “Student” class has the following attributes:\n",
    "## a. name: Represents the name of the student.\n",
    "## b. age: Represents the age of the student.\n",
    "## c. grade: Represents the grade or class of the student.\n",
    "## d. student_id: Represents the unique identifier for the student.\n",
    "## e. attendance: Represents the attendance record of the student.\n",
    "## The class should also include the following methods:\n",
    "## a. update_attendance(self, date, status): Updates the attendance record of the student for a given date with the provided status (e.g., present or absent).\n",
    "## b. get_attendance(self): Returns the attendance record of the student.\n",
    "## c. get_average_attendance(self): Calculates and returns the average attendance percentage of the student based on their attendance record."
   ]
  },
  {
   "cell_type": "code",
   "execution_count": 11,
   "id": "a96372e7",
   "metadata": {},
   "outputs": [
    {
     "name": "stdout",
     "output_type": "stream",
     "text": [
      "{'2023-08-15': 'present', '2023-08-14': 'absent', '2023-08-13': 'present'}\n",
      "Average Attendance: 66.66666666666666 %\n"
     ]
    }
   ],
   "source": [
    "class Student:\n",
    "    def __init__(self, name, age, grade, student_id):\n",
    "        self.name = name\n",
    "        self.age = age\n",
    "        self.grade = grade\n",
    "        self.student_id = student_id\n",
    "        self.attendance = {}  # Dictionary to store attendance records (date: status)\n",
    "\n",
    "    def update_attendance(self, date, status):\n",
    "        self.attendance[date] = status\n",
    "\n",
    "    def get_attendance(self):\n",
    "        return self.attendance\n",
    "\n",
    "    def get_average_attendance(self):\n",
    "        total_days = len(self.attendance)\n",
    "        if total_days == 0:\n",
    "            return 0.0\n",
    "        present_days = sum(1 for status in self.attendance.values() if status == 'present')\n",
    "        attendance_percentage = (present_days / total_days) * 100\n",
    "        return attendance_percentage\n",
    "\n",
    "\n",
    "# Example usage\n",
    "student1 = Student(\"John Doe\", 15, \"10th\", \"12345\")\n",
    "student1.update_attendance(\"2023-08-15\", \"present\")\n",
    "student1.update_attendance(\"2023-08-14\", \"absent\")\n",
    "student1.update_attendance(\"2023-08-13\", \"present\")\n",
    "\n",
    "print(student1.get_attendance())\n",
    "print(\"Average Attendance:\", student1.get_average_attendance(), \"%\")"
   ]
  },
  {
   "cell_type": "code",
   "execution_count": null,
   "id": "fccdb6f2",
   "metadata": {},
   "outputs": [],
   "source": []
  }
 ],
 "metadata": {
  "kernelspec": {
   "display_name": "Python 3 (ipykernel)",
   "language": "python",
   "name": "python3"
  },
  "language_info": {
   "codemirror_mode": {
    "name": "ipython",
    "version": 3
   },
   "file_extension": ".py",
   "mimetype": "text/x-python",
   "name": "python",
   "nbconvert_exporter": "python",
   "pygments_lexer": "ipython3",
   "version": "3.10.9"
  }
 },
 "nbformat": 4,
 "nbformat_minor": 5
}
