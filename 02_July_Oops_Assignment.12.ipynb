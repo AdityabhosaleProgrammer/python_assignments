{
 "cells": [
  {
   "cell_type": "markdown",
   "id": "9583e33d",
   "metadata": {},
   "source": [
    "## 1. Explain what inheritance is in object-oriented programming and why it is used."
   ]
  },
  {
   "cell_type": "markdown",
   "id": "7c326033",
   "metadata": {},
   "source": [
    "Ans:-\n",
    "    In object-oriented programming (OOP), inheritance is a fundamental concept that allows one class (the subclass or derived class) to inherit properties and behaviors from another class (the superclass or base class).\n",
    "\n",
    "  (1) Code Reusability: Inheritance enables the reuse of code. Instead of duplicating code across multiple classes, you can define common attributes and methods in a base class and have multiple subclasses inherit these properties. This reduces redundancy and makes the codebase easier to maintain.\n",
    "\n",
    "  (2) Hierarchical Organization: Inheritance allows you to create a structured hierarchy of classes. You can define general behaviors and properties in the base class and then add more specific attributes and methods in subclasses. This reflects real-world relationships and helps organize the codebase in a logical manner.\n",
    "\n",
    "  (3) Polymorphism: Inheritance is closely tied to the concept of polymorphism, which allows objects of different classes to be treated as objects of a common superclass. This enables you to write code that can work with a variety of objects in a consistent way, promoting flexibility and extensibility.\n",
    "\n",
    "  (4) Code Extensibility: As requirements change, you can extend existing classes by creating new subclasses. This way, you can add new features without modifying the existing code. This principle adheres to the open/closed principle in software design, which states that software entities should be open for extension but closed for modification.\n",
    "\n",
    "  (5) Simplification of Complex Systems: Inheritance allows you to build complex systems by breaking them down into smaller, more manageable classes. Each class can focus on specific aspects of functionality, leading to cleaner and more maintainable code.\n",
    "\n",
    "  (6) Method Overriding: Subclasses can provide their own implementations for methods inherited from the superclass. This allows customization of behavior in a subclass without affecting the functionality of other subclasses or the superclass."
   ]
  },
  {
   "cell_type": "markdown",
   "id": "2ff61f60",
   "metadata": {},
   "source": [
    "## 2. Discuss the concept of single inheritance and multiple inheritance, highlighting their differences and advantages."
   ]
  },
  {
   "cell_type": "markdown",
   "id": "0393716f",
   "metadata": {},
   "source": [
    "Ans:-\n",
    "   (1) Single Inheritance:\n",
    "Single Inheritance refers to the scenario where a class inherits from only one parent class. In other words, each class can have only one immediate ancestor from which it derives its properties and behaviors.\n",
    "\n",
    "  Advantages of Single Inheritance:\n",
    "\n",
    "   (a) Simplicity: Single Inheritance simplifies the class hierarchy, making it easier to understand and manage. The relationships between classes are straightforward, as each class has a single parent.\n",
    "   (b) Reduced Complexity: With only one parent class, there's less potential for conflicts and ambiguities in terms of inherited methods and attributes.\n",
    "   (c) Code Reusability: While not as flexible as multiple inheritance, single inheritance still allows for a degree of code reuse by inheriting and extending a single class's functionality.\n",
    "   (d) Encapsulation: Single inheritance supports encapsulation by maintaining a clear hierarchy of classes, which can lead to better organization and modularity.\n",
    "   \n",
    "  (2) Multiple Inheritance:\n",
    "Multiple Inheritance involves a class inheriting from more than one parent class. This means that a single class can inherit properties and behaviors from multiple source classes.\n",
    "\n",
    "   Advantages of Multiple Inheritance:\n",
    "\n",
    "  (1) Enhanced Reusability: Multiple Inheritance offers greater code reuse by allowing a class to inherit features from multiple parent classes. This can lead to more flexible and efficient code design.\n",
    "  (2) Mixins and Interfaces: Multiple Inheritance enables the creation of mixins or interfaces, which are classes that provide specific sets of methods or behaviors that can be combined with other classes. This promotes modularity and reusability.\n",
    "  (3) Richer Functionality: By inheriting from multiple parent classes, a derived class can combine diverse functionalities, making it possible to represent complex real-world scenarios more accurately.\n",
    "  (4) Polymorphism: Multiple Inheritance can lead to more dynamic and adaptable code, as a class can exhibit behavior from multiple perspectives.\n",
    "  \n",
    "  Differences between Single and Multiple Inheritance:\n",
    "\n",
    "  (1) Number of Parents: The primary difference is the number of parent classes a derived class can have. Single Inheritance allows only one parent, while Multiple Inheritance allows multiple parents.\n",
    "\n",
    "  (2) Hierarchy Complexity: Multiple Inheritance can lead to more complex class hierarchies and potential conflicts if not carefully managed. Single Inheritance maintains a simpler hierarchy.\n",
    "\n",
    "  (3) Diamond Problem: Multiple Inheritance can introduce the \"diamond problem,\" where a class inherits from two classes that have a common ancestor. This can lead to ambiguity in method resolution. Various programming languages have different ways of addressing this problem, such as method resolution orders (MROs).\n",
    "\n",
    "  (4) Code Design: Multiple Inheritance requires careful design to avoid confusion, ambiguity, and maintenance challenges, whereas Single Inheritance can be more straightforward."
   ]
  },
  {
   "cell_type": "markdown",
   "id": "6d0a5c2b",
   "metadata": {},
   "source": [
    "## 3. Explain the terms \"base class\" and \"derived class\" in the context of inheritance."
   ]
  },
  {
   "cell_type": "markdown",
   "id": "d7541268",
   "metadata": {},
   "source": [
    "Ans:-\n",
    "    In object-oriented programming, specifically in languages that support inheritance, the terms \"base class\" and \"derived class\" are used to describe the relationship between classes and their inheritance hierarchy. This concept is a fundamental part of the inheritance mechanism and allows for the creation of more specialized classes based on existing ones.\n",
    "    \n",
    "  (1) Base Class (Parent Class or Superclass):\n",
    "A base class is a class that serves as a blueprint or template for creating other classes. It contains common attributes and methods that can be shared among multiple derived classes. The base class is also sometimes referred to as the \"parent class\" or \"superclass.\" It defines the general behavior and characteristics that its derived classes can inherit and specialize. It provides the foundation upon which more specific classes can be built.\n",
    "\n",
    "  (2) Derived Class (Child Class or Subclass):\n",
    "A derived class is a class that inherits attributes and methods from a base class. It is also sometimes called a \"child class\" or \"subclass.\" The derived class extends the functionality of the base class by adding new attributes, methods, or modifying existing ones. It can also override or extend the behavior of methods inherited from the base class. In other words, a derived class is a specialization of the base class, focusing on more specific features or behaviors.\n",
    "\n",
    "For Example:-"
   ]
  },
  {
   "cell_type": "code",
   "execution_count": 1,
   "id": "cfe7789c",
   "metadata": {},
   "outputs": [
    {
     "name": "stdout",
     "output_type": "stream",
     "text": [
      "Woof!\n",
      "Meow!\n"
     ]
    }
   ],
   "source": [
    "class Animal:\n",
    "    def speak(self):\n",
    "        pass\n",
    "\n",
    "class Dog(Animal):  # Dog is a derived class of Animal\n",
    "    def speak(self):\n",
    "        return \"Woof!\"\n",
    "\n",
    "class Cat(Animal):  # Cat is a derived class of Animal\n",
    "    def speak(self):\n",
    "        return \"Meow!\"\n",
    "\n",
    "dog_instance = Dog()\n",
    "cat_instance = Cat()\n",
    "\n",
    "print(dog_instance.speak())  \n",
    "print(cat_instance.speak())  "
   ]
  },
  {
   "cell_type": "markdown",
   "id": "97b5006d",
   "metadata": {},
   "source": [
    "## 4. What is the significance of the \"protected\" access modifier in inheritance? How does it differ from \"private\" and \"public\" modifiers?"
   ]
  },
  {
   "cell_type": "markdown",
   "id": "1da0cb1a",
   "metadata": {},
   "source": [
    "Ans:-\n",
    "    In object-oriented programming, access modifiers like \"protected,\" \"private,\" and \"public\" determine the visibility and accessibility of class members (fields, methods, nested classes) in the context of inheritance and encapsulation. \n",
    "    \n",
    "  (1) Private:\n",
    "Members marked as private are only accessible within the same class where they are declared.\n",
    "They cannot be accessed directly by subclasses or other classes.\n",
    "Private members are used to encapsulate internal implementation details, ensuring that only the class itself can modify or access them.\n",
    "\n",
    "   (2) Protected:\n",
    "Members marked as protected are accessible within the same class, its subclasses (derived classes), and other classes within the same package or assembly (depending on the programming language).\n",
    "Protected members allow for controlled inheritance, where the subclass can access and modify the member, but other unrelated classes cannot.\n",
    "This modifier facilitates a level of encapsulation while still providing a way for subclasses to interact with and build upon the inherited behavior.\n",
    "\n",
    "  (3) Public:\n",
    "Members marked as public are accessible from any class and from anywhere in the program.\n",
    "They have the least restriction in terms of accessibility.\n",
    "Public members represent the interface of a class, defining how other classes can interact with it.\n",
    "\n",
    "In the context of inheritance:\n",
    "\n",
    "Private members are not inherited by subclasses at all. They are hidden from subclasses and any external classes. They are solely for internal use within the class that declares them.\n",
    "\n",
    "Protected members are inherited by subclasses and can be accessed by those subclasses. They provide a way for subclasses to reuse and extend behavior without exposing internal implementation details to external classes.\n",
    "\n",
    "Public members are inherited by subclasses and can also be accessed by any other classes. They define the interface of the class and are meant to be used by external code."
   ]
  },
  {
   "cell_type": "markdown",
   "id": "b104efc5",
   "metadata": {},
   "source": [
    "## 5. What is the purpose of the \"super\" keyword in inheritance? Provide an example."
   ]
  },
  {
   "cell_type": "markdown",
   "id": "4e869662",
   "metadata": {},
   "source": [
    "Ans:-\n",
    "    In object-oriented programming, the super keyword is used to refer to the parent class or superclass of the current class. It allows you to call methods, access properties, and perform other actions defined in the parent class. This is particularly useful when you have a subclass that inherits from a parent class and you want to extend or override some of the behaviors of the parent class while still utilizing its functionality.\n",
    "    For Example:-"
   ]
  },
  {
   "cell_type": "code",
   "execution_count": 2,
   "id": "4a9ea99e",
   "metadata": {},
   "outputs": [
    {
     "name": "stdout",
     "output_type": "stream",
     "text": [
      "Generic Animal makes a sound\n",
      "--------------------\n",
      "Buddy makes a sound\n",
      "Buddy barks\n"
     ]
    }
   ],
   "source": [
    "class Animal:\n",
    "    def __init__(self, name):\n",
    "        self.name = name\n",
    "\n",
    "    def speak(self):\n",
    "        print(f\"{self.name} makes a sound\")\n",
    "\n",
    "class Dog(Animal):\n",
    "    def __init__(self, name, breed):\n",
    "        super().__init__(name)  # Call the constructor of the parent class\n",
    "        self.breed = breed\n",
    "\n",
    "    def speak(self):\n",
    "        super().speak()  # Call the speak method of the parent class\n",
    "        print(f\"{self.name} barks\")\n",
    "\n",
    "# Create instances of the classes\n",
    "animal = Animal(\"Generic Animal\")\n",
    "dog = Dog(\"Buddy\", \"Golden Retriever\")\n",
    "\n",
    "# Call methods on instances\n",
    "animal.speak() \n",
    "print(\"--------------------\")\n",
    "dog.speak()"
   ]
  },
  {
   "cell_type": "markdown",
   "id": "05734647",
   "metadata": {},
   "source": [
    "## 6. Create a base class called \"Vehicle\" with attributes like \"make\", \"model\", and \"year\". Then, create a derived class called \"Car\" that inherits from \"Vehicle\" and adds an attribute called \"fuel_type\". Implement appropriate methods in both classes."
   ]
  },
  {
   "cell_type": "code",
   "execution_count": 5,
   "id": "04189d9f",
   "metadata": {},
   "outputs": [
    {
     "name": "stdout",
     "output_type": "stream",
     "text": [
      "2022 Ford Focus\n",
      "2023 Toyota Camry, Fuel Type: Gasoline\n"
     ]
    }
   ],
   "source": [
    "class Vehicle:\n",
    "    def __init__(self, make, model, year):\n",
    "        self.make = make\n",
    "        self.model = model\n",
    "        self.year = year\n",
    "    \n",
    "    def display_info(self):\n",
    "        return f\"{self.year} {self.make} {self.model}\"\n",
    "\n",
    "class Car(Vehicle):\n",
    "    def __init__(self, make, model, year, fuel_type):\n",
    "        super().__init__(make, model, year)\n",
    "        self.fuel_type = fuel_type\n",
    "    \n",
    "    def display_info(self):\n",
    "        base_info = super().display_info()\n",
    "        return f\"{base_info}, Fuel Type: {self.fuel_type}\"\n",
    "\n",
    "# Creating instances of the classes\n",
    "vehicle = Vehicle(\"Ford\", \"Focus\", 2022)\n",
    "car = Car(\"Toyota\", \"Camry\", 2023, \"Gasoline\")\n",
    "\n",
    "# Displaying information\n",
    "print(vehicle.display_info()) \n",
    "print(car.display_info())     "
   ]
  },
  {
   "cell_type": "markdown",
   "id": "460ab2ff",
   "metadata": {},
   "source": [
    "## 7. Create a base class called \"Employee\" with attributes like \"name\" and \"salary.\"Derive two classes, \"Manager\" and \"Developer,\" from \"Employee.\" Add an additional attribute called \"department\" for the \"Manager\" class and \"programming_language\" for the \"Developer\" class."
   ]
  },
  {
   "cell_type": "code",
   "execution_count": 7,
   "id": "715dd66f",
   "metadata": {},
   "outputs": [
    {
     "name": "stdout",
     "output_type": "stream",
     "text": [
      "Manager: John Doe, Salary: $80000, Department: HR\n",
      "Developer: Jane Smith, Salary: $70000, Programming Language: Python\n"
     ]
    }
   ],
   "source": [
    "class Employee:\n",
    "    def __init__(self, name, salary):\n",
    "        self.name = name\n",
    "        self.salary = salary\n",
    "\n",
    "class Manager(Employee):\n",
    "    def __init__(self, name, salary, department):\n",
    "        super().__init__(name, salary)\n",
    "        self.department = department\n",
    "\n",
    "class Developer(Employee):\n",
    "    def __init__(self, name, salary, programming_language):\n",
    "        super().__init__(name, salary)\n",
    "        self.programming_language = programming_language\n",
    "# Creating instances of Manager and Developer\n",
    "manager = Manager(\"John Doe\", 80000, \"HR\")\n",
    "developer = Developer(\"Jane Smith\", 70000, \"Python\")\n",
    "\n",
    "# Accessing attributes\n",
    "print(f\"Manager: {manager.name}, Salary: ${manager.salary}, Department: {manager.department}\")\n",
    "print(f\"Developer: {developer.name}, Salary: ${developer.salary}, Programming Language: {developer.programming_language}\")"
   ]
  },
  {
   "cell_type": "markdown",
   "id": "934f682d",
   "metadata": {},
   "source": [
    "## 8. Design a base class called \"Shape\" with attributes like \"colour\" and \"border_width.\" Create derived classes, \"Rectangle\" and \"Circle,\" that inherit from \"Shape\" and add specific attributes like \"length\" and \"width\" for the \"Rectangle\" class and \"radius\" for the \"Circle\" class."
   ]
  },
  {
   "cell_type": "code",
   "execution_count": 8,
   "id": "b7806a14",
   "metadata": {},
   "outputs": [
    {
     "name": "stdout",
     "output_type": "stream",
     "text": [
      "Rectangle:\n",
      "Colour: red\n",
      "Border Width: 2\n",
      "Length: 10\n",
      "Width: 5\n",
      "\n",
      "Circle:\n",
      "Colour: blue\n",
      "Border Width: 1\n",
      "Radius: 7\n"
     ]
    }
   ],
   "source": [
    "class Shape:\n",
    "    def __init__(self, colour, border_width):\n",
    "        self.colour = colour\n",
    "        self.border_width = border_width\n",
    "\n",
    "class Rectangle(Shape):\n",
    "    def __init__(self, colour, border_width, length, width):\n",
    "        super().__init__(colour, border_width)\n",
    "        self.length = length\n",
    "        self.width = width\n",
    "\n",
    "class Circle(Shape):\n",
    "    def __init__(self, colour, border_width, radius):\n",
    "        super().__init__(colour, border_width)\n",
    "        self.radius = radius\n",
    "# Creating instances of Rectangle and Circle\n",
    "rectangle = Rectangle(colour=\"red\", border_width=2, length=10, width=5)\n",
    "circle = Circle(colour=\"blue\", border_width=1, radius=7)\n",
    "\n",
    "# Accessing attributes\n",
    "print(\"Rectangle:\")\n",
    "print(\"Colour:\", rectangle.colour)\n",
    "print(\"Border Width:\", rectangle.border_width)\n",
    "print(\"Length:\", rectangle.length)\n",
    "print(\"Width:\", rectangle.width)\n",
    "\n",
    "print(\"\\nCircle:\")\n",
    "print(\"Colour:\", circle.colour)\n",
    "print(\"Border Width:\", circle.border_width)\n",
    "print(\"Radius:\", circle.radius)       "
   ]
  },
  {
   "cell_type": "markdown",
   "id": "5923e885",
   "metadata": {},
   "source": [
    "## 9. Create a base class called \"Device\" with attributes like \"brand\" and \"model.\" Derive two classes, \"Phone\" and \"Tablet,\" from \"Device.\" Add specific attributes like \"screen_size\" for the \"Phone\" class and \"battery_capacity\" for the \"Tablet\" class."
   ]
  },
  {
   "cell_type": "code",
   "execution_count": 9,
   "id": "5ecf6fb0",
   "metadata": {},
   "outputs": [
    {
     "name": "stdout",
     "output_type": "stream",
     "text": [
      "Phone: Apple iPhone 13, Screen Size: 6.1 inches\n",
      "Tablet: Samsung Galaxy Tab S7, Battery Capacity: 8000 mAh\n"
     ]
    }
   ],
   "source": [
    "class Device:\n",
    "    def __init__(self, brand, model):\n",
    "        self.brand = brand\n",
    "        self.model = model\n",
    "\n",
    "class Phone(Device):\n",
    "    def __init__(self, brand, model, screen_size):\n",
    "        super().__init__(brand, model)\n",
    "        self.screen_size = screen_size\n",
    "\n",
    "class Tablet(Device):\n",
    "    def __init__(self, brand, model, battery_capacity):\n",
    "        super().__init__(brand, model)\n",
    "        self.battery_capacity = battery_capacity\n",
    "\n",
    "# Creating instances of the classes\n",
    "phone = Phone(\"Apple\", \"iPhone 13\", 6.1)\n",
    "tablet = Tablet(\"Samsung\", \"Galaxy Tab S7\", 8000)\n",
    "\n",
    "# Accessing attributes\n",
    "print(f\"Phone: {phone.brand} {phone.model}, Screen Size: {phone.screen_size} inches\")\n",
    "print(f\"Tablet: {tablet.brand} {tablet.model}, Battery Capacity: {tablet.battery_capacity} mAh\")"
   ]
  },
  {
   "cell_type": "markdown",
   "id": "301608e8",
   "metadata": {},
   "source": [
    "## 10. Create a base class called \"BankAccount\" with attributes like \"account_number\" and \"balance.\" Derive two classes, \"SavingsAccount\" and \"CheckingAccount,\" from \"BankAccount.\" Add specific methods like \"calculate_interest\" for the \"SavingsAccount\" class and \"deduct_fees\" for the \"CheckingAccount\" class."
   ]
  },
  {
   "cell_type": "code",
   "execution_count": 10,
   "id": "40665144",
   "metadata": {},
   "outputs": [
    {
     "name": "stdout",
     "output_type": "stream",
     "text": [
      "Savings Account\n",
      "Account Number: SA123456\n",
      "Initial Balance: 1000\n",
      "Interest Earned: 50.0\n",
      "Updated Balance: 1050.0\n",
      "\n",
      "Checking Account\n",
      "Account Number: CA987654\n",
      "Initial Balance: 500\n",
      "Fee Deducted: True\n",
      "Updated Balance: 450\n"
     ]
    }
   ],
   "source": [
    "class BankAccount:\n",
    "    def __init__(self, account_number, balance):\n",
    "        self.account_number = account_number\n",
    "        self.balance = balance\n",
    "\n",
    "class SavingsAccount(BankAccount):\n",
    "    def calculate_interest(self, rate):\n",
    "        interest = self.balance * rate\n",
    "        self.balance += interest\n",
    "        return interest\n",
    "\n",
    "class CheckingAccount(BankAccount):\n",
    "    def deduct_fees(self, fee_amount):\n",
    "        if self.balance >= fee_amount:\n",
    "            self.balance -= fee_amount\n",
    "            return True\n",
    "        else:\n",
    "            return False\n",
    "\n",
    "# Example usage\n",
    "savings = SavingsAccount(account_number=\"SA123456\", balance=1000)\n",
    "checking = CheckingAccount(account_number=\"CA987654\", balance=500)\n",
    "\n",
    "print(\"Savings Account\")\n",
    "print(\"Account Number:\", savings.account_number)\n",
    "print(\"Initial Balance:\", savings.balance)\n",
    "interest_earned = savings.calculate_interest(0.05)\n",
    "print(\"Interest Earned:\", interest_earned)\n",
    "print(\"Updated Balance:\", savings.balance)\n",
    "\n",
    "print(\"\\nChecking Account\")\n",
    "print(\"Account Number:\", checking.account_number)\n",
    "print(\"Initial Balance:\", checking.balance)\n",
    "fee_deducted = checking.deduct_fees(50)\n",
    "print(\"Fee Deducted:\", fee_deducted)\n",
    "print(\"Updated Balance:\", checking.balance)"
   ]
  },
  {
   "cell_type": "code",
   "execution_count": null,
   "id": "df76416b",
   "metadata": {},
   "outputs": [],
   "source": []
  }
 ],
 "metadata": {
  "kernelspec": {
   "display_name": "Python 3 (ipykernel)",
   "language": "python",
   "name": "python3"
  },
  "language_info": {
   "codemirror_mode": {
    "name": "ipython",
    "version": 3
   },
   "file_extension": ".py",
   "mimetype": "text/x-python",
   "name": "python",
   "nbconvert_exporter": "python",
   "pygments_lexer": "ipython3",
   "version": "3.10.9"
  }
 },
 "nbformat": 4,
 "nbformat_minor": 5
}
